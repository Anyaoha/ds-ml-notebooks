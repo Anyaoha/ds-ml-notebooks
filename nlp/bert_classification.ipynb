{
 "cells": [
  {
   "cell_type": "markdown",
   "id": "8ddd6d13-4545-43bd-8faa-0f79b742d4d5",
   "metadata": {},
   "source": [
    "# Sentiment Analysis with BERT\n",
    "\n",
    "- Framework: Pytorch and [Tez](https://github.com/abhishekkrthakur/tez)"
   ]
  },
  {
   "cell_type": "code",
   "execution_count": 1,
   "id": "e96c1e0c-4658-4c53-a0ec-7b2d5a4c9215",
   "metadata": {},
   "outputs": [
    {
     "name": "stdout",
     "output_type": "stream",
     "text": [
      "/Users/tracesmith/Desktop/Trace/Coding/datascience-notebooks\n"
     ]
    }
   ],
   "source": [
    "%cd .."
   ]
  },
  {
   "cell_type": "code",
   "execution_count": 2,
   "id": "8c68ead5-84dc-4f9e-954a-3069923cb972",
   "metadata": {},
   "outputs": [],
   "source": [
    "%load_ext autoreload"
   ]
  },
  {
   "cell_type": "code",
   "execution_count": 21,
   "id": "80e151ef-1d67-44a0-92b2-e98727aa3938",
   "metadata": {},
   "outputs": [],
   "source": [
    "import os\n",
    "import torch\n",
    "import pandas as pd\n",
    "from nltk.corpus import movie_reviews \n",
    "from nlp.scripts.bert import BERTDataset,BERTClassifier,train_model"
   ]
  },
  {
   "cell_type": "markdown",
   "id": "8b482900-839e-4310-840e-271eaa050b6f",
   "metadata": {},
   "source": [
    "### Load Movie Reviews"
   ]
  },
  {
   "cell_type": "code",
   "execution_count": 5,
   "id": "cae11423-b1e4-4db7-b20f-50bba01325bb",
   "metadata": {},
   "outputs": [],
   "source": [
    "documents = [(list(movie_reviews.words(fileid)), category)\n",
    "             for category in movie_reviews.categories()\n",
    "             for fileid in movie_reviews.fileids(category)]"
   ]
  },
  {
   "cell_type": "code",
   "execution_count": 6,
   "id": "037f5bd6-72c7-4599-8425-dbf851901553",
   "metadata": {},
   "outputs": [],
   "source": [
    "df = pd.DataFrame(list(documents), columns=[\"Review\",\"Label\"])\n",
    "df['Review'] = df['Review'].apply(lambda x: ' '.join(x))\n",
    "df['Label'] = pd.Categorical(df['Label']).codes.astype(float)"
   ]
  },
  {
   "cell_type": "markdown",
   "id": "2ae91291-dc4d-4124-97df-884ee5bf8fbe",
   "metadata": {},
   "source": [
    "### Split Train/Validation/Test"
   ]
  },
  {
   "cell_type": "code",
   "execution_count": 7,
   "id": "944b10df-d6df-4a38-8938-e7a33ed9543f",
   "metadata": {},
   "outputs": [
    {
     "name": "stdout",
     "output_type": "stream",
     "text": [
      "Train: 1600 - Validation: 200 - Test: 200\n"
     ]
    }
   ],
   "source": [
    "# train/validation split ratio\n",
    "train_idx = int(df.shape[0] * 0.80)\n",
    "val_idx = int(train_idx + (df.shape[0] - train_idx) * 0.50)\n",
    "\n",
    "# Train \n",
    "X_train, y_train = df.iloc[:train_idx,0].values, df.iloc[:train_idx,1].values\n",
    "\n",
    "# Validation\n",
    "X_val, y_val = df.iloc[train_idx:val_idx,0].values, df.iloc[train_idx:val_idx,1].values\n",
    "\n",
    "# Test\n",
    "X_test, y_test = df.iloc[val_idx:,0].values, df.iloc[val_idx:,1].values\n",
    "\n",
    "print(f'Train: {X_train.shape[0]} - Validation: {X_val.shape[0]} - Test: {X_test.shape[0]}')"
   ]
  },
  {
   "cell_type": "markdown",
   "id": "a8534ccb-af5c-4b09-965c-a42012a27887",
   "metadata": {},
   "source": [
    "### Train Model"
   ]
  },
  {
   "cell_type": "code",
   "execution_count": null,
   "id": "26d3b178-a35d-4865-a835-a70c295f01ad",
   "metadata": {},
   "outputs": [],
   "source": [
    "%autoreload\n",
    "history = train_model(X_train,y_train,X_val,y_val,epochs=2)"
   ]
  },
  {
   "cell_type": "markdown",
   "id": "cb1606e8-eab0-41ef-8381-54288b39e282",
   "metadata": {},
   "source": [
    "### Evaluate Model"
   ]
  },
  {
   "cell_type": "code",
   "execution_count": 36,
   "id": "dc66929b-eefb-4872-9ba6-18d5ef0832eb",
   "metadata": {},
   "outputs": [],
   "source": [
    "model = torch.load(os.path.join(\"model.bin\"))\n",
    "test_dataset = BERTDataset(X_test, y_test)\n",
    "preds = model.predict(test_dataset, batch_size=32, n_jobs=-1, device=\"cpu\")"
   ]
  }
 ],
 "metadata": {
  "kernelspec": {
   "display_name": "datasci",
   "language": "python",
   "name": "datasci"
  },
  "language_info": {
   "codemirror_mode": {
    "name": "ipython",
    "version": 3
   },
   "file_extension": ".py",
   "mimetype": "text/x-python",
   "name": "python",
   "nbconvert_exporter": "python",
   "pygments_lexer": "ipython3",
   "version": "3.8.1"
  }
 },
 "nbformat": 4,
 "nbformat_minor": 5
}
