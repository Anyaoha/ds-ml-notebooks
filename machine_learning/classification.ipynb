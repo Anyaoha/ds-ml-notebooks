{
 "cells": [
  {
   "cell_type": "markdown",
   "metadata": {},
   "source": [
    "# Titanic: Survival Prediction "
   ]
  },
  {
   "cell_type": "code",
   "execution_count": 123,
   "metadata": {
    "collapsed": false
   },
   "outputs": [],
   "source": [
    "import pandas as pd\n",
    "import numpy as np\n",
    "import time as time\n",
    "from IPython.display import display \n",
    "\n",
    "import matplotlib.pyplot as plt\n",
    "import seaborn as sns\n",
    "sns.set_style(\"whitegrid\", {'axes.grid' : False})\n",
    "% matplotlib inline \n",
    "\n",
    "from sklearn.cross_validation import KFold\n",
    "from sklearn.grid_search import GridSearchCV\n",
    "from sklearn.ensemble import RandomForestClassifier\n",
    "from sklearn.naive_bayes import GaussianNB\n",
    "from sklearn.metrics import precision_recall_fscore_support, f1_score\n",
    "from sklearn.metrics import accuracy_score"
   ]
  },
  {
   "cell_type": "markdown",
   "metadata": {},
   "source": [
    "#### Load in Data"
   ]
  },
  {
   "cell_type": "code",
   "execution_count": 124,
   "metadata": {
    "collapsed": false
   },
   "outputs": [
    {
     "name": "stdout",
     "output_type": "stream",
     "text": [
      "Data Successfuly Loaded\n",
      "name 'df_train' is not defined\n"
     ]
    }
   ],
   "source": [
    "try: #reading in data (training and testing)\n",
    "    df_train_raw = pd.read_csv(\"./Data/train.csv\",sep=\",\")\n",
    "    df_test_raw = pd.read_csv(\"./Data/test.csv\",sep=\",\")\n",
    "    print(\"Data Successfuly Loaded\")\n",
    "    print(\"Total Observations: {}\".format(df_train.shape[0]))\n",
    "except Exception as e:\n",
    "    print(str(e))"
   ]
  },
  {
   "cell_type": "markdown",
   "metadata": {},
   "source": [
    "From the Titanic dataset, the features for each passenger on the ship are as follows:\n",
    "\n",
    "- Survived: Outcome of survival (0 = No; 1 = Yes)\n",
    "- Pclass: Socio-economic class (1 = Upper class; 2 = Middle class; 3 = Lower class)\n",
    "- Name: Name of passenger\n",
    "- Sex: Sex of the passenger\n",
    "- Age: Age of the passenger (Some entries contain NaN)\n",
    "- SibSp: Number of siblings and spouses of the passenger aboard\n",
    "- Parch: Number of parents and children of the passenger aboard\n",
    "- Ticket: Ticket number of the passenger\n",
    "- Fare: Fare paid by the passenger\n",
    "- Cabin Cabin number of the passenger (Some entries contain NaN)\n",
    "- Embarked: Port of embarkation of the passenger (C = Cherbourg; Q = Queenstown; S = Southampton)"
   ]
  },
  {
   "cell_type": "markdown",
   "metadata": {},
   "source": [
    "### Training & Testing Set Preprocess"
   ]
  },
  {
   "cell_type": "code",
   "execution_count": 125,
   "metadata": {
    "collapsed": false
   },
   "outputs": [],
   "source": [
    "#Drop Columns not necessary for predictions:\n",
    "def drop_columns(df,columns):\n",
    "    '''Drop columns that are unimportant'''\n",
    "    df = df.drop(columns,axis=1)\n",
    "    return(df)\n",
    "\n",
    "# Drop the observations that contain a NA in column\n",
    "def drop_na(df):\n",
    "    '''Drop observations with missing values'''\n",
    "    df = df.dropna()\n",
    "    print(\"Confirm rows with NA's are dropped:\")\n",
    "    print(df.isnull().sum())\n",
    "    return(df)"
   ]
  },
  {
   "cell_type": "code",
   "execution_count": 128,
   "metadata": {
    "collapsed": false
   },
   "outputs": [
    {
     "name": "stdout",
     "output_type": "stream",
     "text": [
      "Confirm rows with NA's are dropped:\n",
      "Survived    0\n",
      "Pclass      0\n",
      "Sex         0\n",
      "Age         0\n",
      "SibSp       0\n",
      "Parch       0\n",
      "Fare        0\n",
      "Embarked    0\n",
      "dtype: int64\n"
     ]
    }
   ],
   "source": [
    "### Training Set\n",
    "columns_train = ['PassengerId','Name','Ticket','Cabin']\n",
    "df_train  = drop_columns(df_train_raw,columns_train)\n",
    "df_train_na = drop_na(df_train).reset_index()"
   ]
  },
  {
   "cell_type": "code",
   "execution_count": 129,
   "metadata": {
    "collapsed": false
   },
   "outputs": [
    {
     "name": "stdout",
     "output_type": "stream",
     "text": [
      "Confirm rows with NA's are dropped:\n",
      "Pclass      0\n",
      "Name        0\n",
      "Sex         0\n",
      "Age         0\n",
      "SibSp       0\n",
      "Parch       0\n",
      "Fare        0\n",
      "Embarked    0\n",
      "dtype: int64\n"
     ]
    }
   ],
   "source": [
    "###Testing Set\n",
    "#call the drop_na function and pass the reduced test set (i.e. with removed features)\n",
    "columns_test = ['PassengerId']\n",
    "df_test  = drop_columns(df_test_raw,columns_test)\n",
    "df_test_na = drop_na(df_test).reset_index()"
   ]
  },
  {
   "cell_type": "code",
   "execution_count": 130,
   "metadata": {
    "collapsed": false
   },
   "outputs": [
    {
     "data": {
      "text/html": [
       "<div>\n",
       "<table border=\"1\" class=\"dataframe\">\n",
       "  <thead>\n",
       "    <tr style=\"text-align: right;\">\n",
       "      <th></th>\n",
       "      <th>Pclass</th>\n",
       "      <th>Sex</th>\n",
       "      <th>Age</th>\n",
       "      <th>SibSp</th>\n",
       "      <th>Parch</th>\n",
       "      <th>Fare</th>\n",
       "      <th>Embarked</th>\n",
       "    </tr>\n",
       "  </thead>\n",
       "  <tbody>\n",
       "    <tr>\n",
       "      <th>0</th>\n",
       "      <td>3</td>\n",
       "      <td>male</td>\n",
       "      <td>22.0</td>\n",
       "      <td>1</td>\n",
       "      <td>0</td>\n",
       "      <td>7.2500</td>\n",
       "      <td>Southampton</td>\n",
       "    </tr>\n",
       "    <tr>\n",
       "      <th>1</th>\n",
       "      <td>1</td>\n",
       "      <td>female</td>\n",
       "      <td>38.0</td>\n",
       "      <td>1</td>\n",
       "      <td>0</td>\n",
       "      <td>71.2833</td>\n",
       "      <td>Cherbourg</td>\n",
       "    </tr>\n",
       "    <tr>\n",
       "      <th>2</th>\n",
       "      <td>3</td>\n",
       "      <td>female</td>\n",
       "      <td>26.0</td>\n",
       "      <td>0</td>\n",
       "      <td>0</td>\n",
       "      <td>7.9250</td>\n",
       "      <td>Southampton</td>\n",
       "    </tr>\n",
       "    <tr>\n",
       "      <th>3</th>\n",
       "      <td>1</td>\n",
       "      <td>female</td>\n",
       "      <td>35.0</td>\n",
       "      <td>1</td>\n",
       "      <td>0</td>\n",
       "      <td>53.1000</td>\n",
       "      <td>Southampton</td>\n",
       "    </tr>\n",
       "    <tr>\n",
       "      <th>4</th>\n",
       "      <td>3</td>\n",
       "      <td>male</td>\n",
       "      <td>35.0</td>\n",
       "      <td>0</td>\n",
       "      <td>0</td>\n",
       "      <td>8.0500</td>\n",
       "      <td>Southampton</td>\n",
       "    </tr>\n",
       "  </tbody>\n",
       "</table>\n",
       "</div>"
      ],
      "text/plain": [
       "   Pclass     Sex   Age  SibSp  Parch     Fare     Embarked\n",
       "0       3    male  22.0      1      0   7.2500  Southampton\n",
       "1       1  female  38.0      1      0  71.2833    Cherbourg\n",
       "2       3  female  26.0      0      0   7.9250  Southampton\n",
       "3       1  female  35.0      1      0  53.1000  Southampton\n",
       "4       3    male  35.0      0      0   8.0500  Southampton"
      ]
     },
     "execution_count": 130,
     "metadata": {},
     "output_type": "execute_result"
    }
   ],
   "source": [
    "df_train.ix[:,1:].head()"
   ]
  },
  {
   "cell_type": "code",
   "execution_count": 131,
   "metadata": {
    "collapsed": false
   },
   "outputs": [
    {
     "name": "stdout",
     "output_type": "stream",
     "text": [
      "Total number of features: 7\n",
      "Total number of observations: 714\n"
     ]
    }
   ],
   "source": [
    "#Assign Features and Labels\n",
    "def get_features_label(df):\n",
    "    X = df.ix[:,2:] #Features\n",
    "    y = df.ix[:,1] # Labels\n",
    "    return(X,y)\n",
    "\n",
    "X1,y1 = get_features_label(df_train_na)\n",
    "print(\"Total number of features: {}\".format(X1.shape[1]))\n",
    "print(\"Total number of observations: {}\".format(X1.shape[0]))"
   ]
  },
  {
   "cell_type": "code",
   "execution_count": 132,
   "metadata": {
    "collapsed": false,
    "scrolled": false
   },
   "outputs": [],
   "source": [
    "def get_dummy_vars(X):\n",
    "    # Initialize new output DataFrame\n",
    "    df_preprocess = pd.DataFrame(index = X.index)\n",
    "\n",
    "    # Investigate each feature column for the data\n",
    "    for col_name, row in X.iteritems():\n",
    "        \n",
    "        print(col_name,row.dtype)\n",
    "        \n",
    "        # If data type is non-numeric, replace all yes/no values with 1/0\n",
    "        if row.dtype == object:\n",
    "            row = row.replace(['male', 'female'], [1, 0])\n",
    "\n",
    "        # If data type is categorical, convert to dummy variables\n",
    "        if row.dtype == object:\n",
    "            # Example: 'school' => 'school_GP' and 'school_MS'\n",
    "            row = pd.get_dummies(row, prefix = col_name)\n",
    "\n",
    "        # Collect the revised columns\n",
    "        df_preprocess = df_preprocess.join(row)\n",
    "    \n",
    "    return df_preprocess"
   ]
  },
  {
   "cell_type": "code",
   "execution_count": 133,
   "metadata": {
    "collapsed": false
   },
   "outputs": [
    {
     "name": "stdout",
     "output_type": "stream",
     "text": [
      "Pclass int64\n",
      "Sex object\n",
      "Age float64\n",
      "SibSp int64\n",
      "Parch int64\n",
      "Fare float64\n",
      "Embarked object\n"
     ]
    },
    {
     "data": {
      "text/html": [
       "<div>\n",
       "<table border=\"1\" class=\"dataframe\">\n",
       "  <thead>\n",
       "    <tr style=\"text-align: right;\">\n",
       "      <th></th>\n",
       "      <th>Pclass</th>\n",
       "      <th>Sex</th>\n",
       "      <th>Age</th>\n",
       "      <th>SibSp</th>\n",
       "      <th>Parch</th>\n",
       "      <th>Fare</th>\n",
       "      <th>Embarked_Cherbourg</th>\n",
       "      <th>Embarked_Queenstown</th>\n",
       "      <th>Embarked_Southampton</th>\n",
       "    </tr>\n",
       "  </thead>\n",
       "  <tbody>\n",
       "    <tr>\n",
       "      <th>0</th>\n",
       "      <td>3</td>\n",
       "      <td>1</td>\n",
       "      <td>22.0</td>\n",
       "      <td>1</td>\n",
       "      <td>0</td>\n",
       "      <td>7.2500</td>\n",
       "      <td>0.0</td>\n",
       "      <td>0.0</td>\n",
       "      <td>1.0</td>\n",
       "    </tr>\n",
       "    <tr>\n",
       "      <th>1</th>\n",
       "      <td>1</td>\n",
       "      <td>0</td>\n",
       "      <td>38.0</td>\n",
       "      <td>1</td>\n",
       "      <td>0</td>\n",
       "      <td>71.2833</td>\n",
       "      <td>1.0</td>\n",
       "      <td>0.0</td>\n",
       "      <td>0.0</td>\n",
       "    </tr>\n",
       "  </tbody>\n",
       "</table>\n",
       "</div>"
      ],
      "text/plain": [
       "   Pclass  Sex   Age  SibSp  Parch     Fare  Embarked_Cherbourg  \\\n",
       "0       3    1  22.0      1      0   7.2500                 0.0   \n",
       "1       1    0  38.0      1      0  71.2833                 1.0   \n",
       "\n",
       "   Embarked_Queenstown  Embarked_Southampton  \n",
       "0                  0.0                   1.0  \n",
       "1                  0.0                   0.0  "
      ]
     },
     "metadata": {},
     "output_type": "display_data"
    }
   ],
   "source": [
    "#check that the categorical variables are correctly modified\n",
    "X_d = get_dummy_vars(X1)\n",
    "display(X_d.head(2))"
   ]
  },
  {
   "cell_type": "markdown",
   "metadata": {},
   "source": [
    "## Build Predictive Model"
   ]
  },
  {
   "cell_type": "markdown",
   "metadata": {},
   "source": [
    "- Base case: removing all of the missing values in each row per feature and splitting the \"training\" set into folds to perform cross-validation"
   ]
  },
  {
   "cell_type": "code",
   "execution_count": 134,
   "metadata": {
    "collapsed": true
   },
   "outputs": [],
   "source": [
    "def train_and_predict(clf,X_train,y_train,X_test,y_test):\n",
    "    '''Build a Basic Model for Predictions'''\n",
    "    '''No hyperparameters are tuned in this model'''\n",
    "    \n",
    "    #start time to run the model\n",
    "    start = time.time()\n",
    "   \n",
    "    #fit classifier to the training set\n",
    "    clf.fit(X_train,y_train)\n",
    "    \n",
    "    #predict using the Testing set held out from each fold\n",
    "    y_pred = clf.predict(X_test)\n",
    "\n",
    "    #Compute the accuracy for the actual label vs the predicted label\n",
    "    acc = accuracy_score(y_test,y_pred)\n",
    "    \n",
    "    #stop timing run\n",
    "    end  = time.time()\n",
    "    \n",
    "    #total run time\n",
    "    total_time = end -start\n",
    "    \n",
    "    #modify format of time h:m:s\n",
    "    m,s = divmod(total_time,60)\n",
    "    h,m = divmod(m,60)\n",
    "    time_format = \"%d:%02d:%02d\" % (h,m,s)\n",
    "    return(acc,time_format)"
   ]
  },
  {
   "cell_type": "code",
   "execution_count": 135,
   "metadata": {
    "collapsed": false,
    "scrolled": false
   },
   "outputs": [],
   "source": [
    "def run_model(clf,X,y):\n",
    "    print(\"Model:\", clf.__class__.__name__)\n",
    "    print(\"*******************************\")\n",
    "\n",
    "    #initialize empty dataframe to store iteration results\n",
    "    df_summary = pd.DataFrame(columns=['Fold','Run Time','Accuracy'])\n",
    "\n",
    "    #Perform Cross-Validation\n",
    "    n_folds = 5 # number of fold; (i.e. 3, 5, or 10 are common; odd numbers perfered)\n",
    "    kf = KFold(len(X),n_folds,shuffle=True,random_state=None)\n",
    "\n",
    "    #iterate through the indicies identified from kf and assign training and test \n",
    "    # for x and y, respectively. Use '.loc' for slicing dataframe\n",
    "    for index,(train_index,test_index) in list(enumerate(kf,start=1)):\n",
    "        print(\"Fold: \",index)\n",
    "        X_train = X.loc[train_index]; X_test = X.loc[test_index]\n",
    "        y_train = y.loc[train_index]; y_test = y.loc[test_index]\n",
    "\n",
    "        #Print out the dimensions of the training and testing sets\n",
    "        #double check the dimensions are correct\n",
    "        print(\"Train_Index:{}....\".format(train_index[1:10]))\n",
    "        print(\"Test_Index: {}....\".format(test_index[1:10]))\n",
    "        print(\"Train Size: \",X_train.shape[0])\n",
    "        print(\"Test Size: \",X_test.shape[0])\n",
    "\n",
    "        #Call the train_and_predict function and pass in training and testing sets\n",
    "        acc, time_form = train_and_predict(clf,X_train,y_train,X_test,y_test)\n",
    "        print(\"Run Time:\", time_form)\n",
    "        print(\"Accuracy: {0:.3f}%\".format(acc*100))    \n",
    "\n",
    "        #appending dataframe \n",
    "        df_summary = df_summary.append({'Fold': index,\n",
    "                           'Run Time': time_form,\n",
    "                           'Accuracy': acc},ignore_index=True)\n",
    "        print(\"===================================================\")\n",
    "\n",
    "    print(\"\\nSummary Statistics:\")\n",
    "    print(df_summary)\n",
    "\n",
    "    print(\"\\nAverage Accuracy: {0:.2f}%\".format(df_summary['Accuracy'].mean()*100))"
   ]
  },
  {
   "cell_type": "code",
   "execution_count": 136,
   "metadata": {
    "collapsed": false
   },
   "outputs": [
    {
     "name": "stdout",
     "output_type": "stream",
     "text": [
      "Model: GaussianNB\n",
      "*******************************\n",
      "Fold:  1\n",
      "Train_Index:[ 1  4  5  6  7  8 10 11 13]....\n",
      "Test_Index: [ 3  9 12 18 21 27 31 44 45]....\n",
      "Train Size:  571\n",
      "Test Size:  143\n",
      "Run Time: 0:00:00\n",
      "Accuracy: 74.126%\n",
      "===================================================\n",
      "Fold:  2\n",
      "Train_Index:[ 3  4  5  6  8  9 10 11 12]....\n",
      "Test_Index: [ 1  7 13 22 24 32 37 38 48]....\n",
      "Train Size:  571\n",
      "Test Size:  143\n",
      "Run Time: 0:00:00\n",
      "Accuracy: 78.322%\n",
      "===================================================\n",
      "Fold:  3\n",
      "Train_Index:[ 1  2  3  4  5  6  7  9 10]....\n",
      "Test_Index: [11 14 15 25 28 35 40 42 43]....\n",
      "Train Size:  571\n",
      "Test Size:  143\n",
      "Run Time: 0:00:00\n",
      "Accuracy: 79.720%\n",
      "===================================================\n",
      "Fold:  4\n",
      "Train_Index:[ 1  2  3  5  7  8  9 10 11]....\n",
      "Test_Index: [ 6 17 19 23 26 33 34 36 39]....\n",
      "Train Size:  571\n",
      "Test Size:  143\n",
      "Run Time: 0:00:00\n",
      "Accuracy: 74.126%\n",
      "===================================================\n",
      "Fold:  5\n",
      "Train_Index:[ 1  2  3  4  6  7  8  9 11]....\n",
      "Test_Index: [10 16 20 29 30 41 47 52 55]....\n",
      "Train Size:  572\n",
      "Test Size:  142\n",
      "Run Time: 0:00:00\n",
      "Accuracy: 74.648%\n",
      "===================================================\n",
      "\n",
      "Summary Statistics:\n",
      "   Fold Run Time  Accuracy\n",
      "0   1.0  0:00:00  0.741259\n",
      "1   2.0  0:00:00  0.783217\n",
      "2   3.0  0:00:00  0.797203\n",
      "3   4.0  0:00:00  0.741259\n",
      "4   5.0  0:00:00  0.746479\n",
      "\n",
      "Average Accuracy: 76.19%\n"
     ]
    }
   ],
   "source": [
    "#considering the Naive Bayes Classification model for base case\n",
    "clf = GaussianNB() \n",
    "run_model(clf,X_d,y1)"
   ]
  },
  {
   "cell_type": "markdown",
   "metadata": {},
   "source": [
    "## Sensitvity Analysis:\n",
    "\n",
    "** Consider several data imputation methods. First, let's look at replacing the data with only the Median values for the respected feature columns (i.e. Age column)**"
   ]
  },
  {
   "cell_type": "code",
   "execution_count": 137,
   "metadata": {
    "collapsed": false
   },
   "outputs": [],
   "source": [
    "df_train  = drop_columns(df_train_raw,columns_train)\n",
    "df_test  = drop_columns(df_test_raw,columns_test)"
   ]
  },
  {
   "cell_type": "code",
   "execution_count": 138,
   "metadata": {
    "collapsed": false
   },
   "outputs": [],
   "source": [
    "df_train['Age'].fillna(df_train[(df_train['Pclass'] == 1)]['Age'].median(),inplace=True)\n",
    "df_train['Age'].fillna(df_train[(df_train['Pclass'] == 2)]['Age'].median(),inplace=True)\n",
    "df_train['Age'].fillna(df_train[(df_train['Pclass'] == 3)]['Age'].median(),inplace=True)"
   ]
  },
  {
   "cell_type": "code",
   "execution_count": 139,
   "metadata": {
    "collapsed": false
   },
   "outputs": [],
   "source": [
    "#df_train.to_csv(\"./Data/medage.csv\",header=True,sep=\",\")"
   ]
  },
  {
   "cell_type": "code",
   "execution_count": 140,
   "metadata": {
    "collapsed": false
   },
   "outputs": [
    {
     "name": "stdout",
     "output_type": "stream",
     "text": [
      "Total number of features: 7\n",
      "Total number of observations: 891\n"
     ]
    }
   ],
   "source": [
    "#Assign Features and Labels\n",
    "def get_features_label2(df):\n",
    "    X = df.ix[:,1:] #Features\n",
    "    y = df.ix[:,0] # Labels\n",
    "    return(X,y)\n",
    "\n",
    "X2,y2 = get_features_label2(df_train)\n",
    "print(\"Total number of features: {}\".format(X2.shape[1]))\n",
    "print(\"Total number of observations: {}\".format(X2.shape[0]))"
   ]
  },
  {
   "cell_type": "code",
   "execution_count": 141,
   "metadata": {
    "collapsed": false
   },
   "outputs": [
    {
     "name": "stdout",
     "output_type": "stream",
     "text": [
      "Pclass int64\n",
      "Sex object\n",
      "Age float64\n",
      "SibSp int64\n",
      "Parch int64\n",
      "Fare float64\n",
      "Embarked object\n"
     ]
    },
    {
     "data": {
      "text/html": [
       "<div>\n",
       "<table border=\"1\" class=\"dataframe\">\n",
       "  <thead>\n",
       "    <tr style=\"text-align: right;\">\n",
       "      <th></th>\n",
       "      <th>Pclass</th>\n",
       "      <th>Sex</th>\n",
       "      <th>Age</th>\n",
       "      <th>SibSp</th>\n",
       "      <th>Parch</th>\n",
       "      <th>Fare</th>\n",
       "      <th>Embarked_Cherbourg</th>\n",
       "      <th>Embarked_Queenstown</th>\n",
       "      <th>Embarked_Southampton</th>\n",
       "    </tr>\n",
       "  </thead>\n",
       "  <tbody>\n",
       "    <tr>\n",
       "      <th>0</th>\n",
       "      <td>3</td>\n",
       "      <td>1</td>\n",
       "      <td>22.0</td>\n",
       "      <td>1</td>\n",
       "      <td>0</td>\n",
       "      <td>7.2500</td>\n",
       "      <td>0.0</td>\n",
       "      <td>0.0</td>\n",
       "      <td>1.0</td>\n",
       "    </tr>\n",
       "    <tr>\n",
       "      <th>1</th>\n",
       "      <td>1</td>\n",
       "      <td>0</td>\n",
       "      <td>38.0</td>\n",
       "      <td>1</td>\n",
       "      <td>0</td>\n",
       "      <td>71.2833</td>\n",
       "      <td>1.0</td>\n",
       "      <td>0.0</td>\n",
       "      <td>0.0</td>\n",
       "    </tr>\n",
       "  </tbody>\n",
       "</table>\n",
       "</div>"
      ],
      "text/plain": [
       "   Pclass  Sex   Age  SibSp  Parch     Fare  Embarked_Cherbourg  \\\n",
       "0       3    1  22.0      1      0   7.2500                 0.0   \n",
       "1       1    0  38.0      1      0  71.2833                 1.0   \n",
       "\n",
       "   Embarked_Queenstown  Embarked_Southampton  \n",
       "0                  0.0                   1.0  \n",
       "1                  0.0                   0.0  "
      ]
     },
     "metadata": {},
     "output_type": "display_data"
    }
   ],
   "source": [
    "#check that the categorical variables are correctly modified\n",
    "X_d2 = get_dummy_vars(X2)\n",
    "display(X_d2.head(2))"
   ]
  },
  {
   "cell_type": "code",
   "execution_count": 142,
   "metadata": {
    "collapsed": false
   },
   "outputs": [
    {
     "name": "stdout",
     "output_type": "stream",
     "text": [
      "Model: GaussianNB\n",
      "*******************************\n",
      "Fold:  1\n",
      "Train_Index:[1 2 3 4 5 6 7 8 9]....\n",
      "Test_Index: [12 13 17 19 25 26 30 33 36]....\n",
      "Train Size:  712\n",
      "Test Size:  179\n",
      "Run Time: 0:00:00\n",
      "Accuracy: 77.095%\n",
      "===================================================\n",
      "Fold:  2\n",
      "Train_Index:[ 2  3  4  5  6  7  9 10 11]....\n",
      "Test_Index: [ 8 20 21 22 23 32 34 39 44]....\n",
      "Train Size:  713\n",
      "Test Size:  178\n",
      "Run Time: 0:00:00\n",
      "Accuracy: 76.404%\n",
      "===================================================\n",
      "Fold:  3\n",
      "Train_Index:[ 1  2  3  4  5  6  8 10 11]....\n",
      "Test_Index: [ 9 16 18 27 46 50 53 54 58]....\n",
      "Train Size:  713\n",
      "Test Size:  178\n",
      "Run Time: 0:00:00\n",
      "Accuracy: 80.337%\n",
      "===================================================\n",
      "Fold:  4\n",
      "Train_Index:[1 2 3 4 5 6 7 8 9]....\n",
      "Test_Index: [29 31 37 38 60 74 76 78 79]....\n",
      "Train Size:  713\n",
      "Test Size:  178\n",
      "Run Time: 0:00:00\n",
      "Accuracy: 78.090%\n",
      "===================================================\n",
      "Fold:  5\n",
      "Train_Index:[ 7  8  9 10 12 13 16 17 18]....\n",
      "Test_Index: [ 2  3  4  5  6 11 14 15 24]....\n",
      "Train Size:  713\n",
      "Test Size:  178\n",
      "Run Time: 0:00:00\n",
      "Accuracy: 79.775%\n",
      "===================================================\n",
      "\n",
      "Summary Statistics:\n",
      "   Fold Run Time  Accuracy\n",
      "0   1.0  0:00:00  0.770950\n",
      "1   2.0  0:00:00  0.764045\n",
      "2   3.0  0:00:00  0.803371\n",
      "3   4.0  0:00:00  0.780899\n",
      "4   5.0  0:00:00  0.797753\n",
      "\n",
      "Average Accuracy: 78.34%\n"
     ]
    }
   ],
   "source": [
    "clf = GaussianNB() #Initialize classifier \n",
    "run_model(clf,X_d2,y2) #call run_model --> which calls train_and_predict"
   ]
  },
  {
   "cell_type": "markdown",
   "metadata": {},
   "source": [
    "## Exploratory Analysis"
   ]
  },
  {
   "cell_type": "code",
   "execution_count": 143,
   "metadata": {
    "collapsed": false,
    "scrolled": false
   },
   "outputs": [
    {
     "name": "stdout",
     "output_type": "stream",
     "text": [
      "Survival Rate for Males: 18.891%\n",
      "Survival Rate for Females: 74.204%\n"
     ]
    },
    {
     "data": {
      "text/plain": [
       "<matplotlib.text.Text at 0x114d21eb8>"
      ]
     },
     "execution_count": 143,
     "metadata": {},
     "output_type": "execute_result"
    },
    {
     "data": {
      "image/png": "[encoded data removed]",
      "text/plain": [
       "<matplotlib.figure.Figure at 0x117ee59e8>"
      ]
     },
     "metadata": {},
     "output_type": "display_data"
    }
   ],
   "source": [
    "df = pd.DataFrame()\n",
    "df['Total'] = df_train.groupby('Sex').size()\n",
    "df['Survived'] = df_train.groupby('Sex').sum()['Survived']\n",
    "df['Survival_Rate'] = (df['Survived']/ df['Total'])*100\n",
    "\n",
    "print(\"Survival Rate for Males: {}%\".format(np.round(df.ix[1,2],3)))\n",
    "print(\"Survival Rate for Females: {}%\".format(np.round(df.ix[0,2],3)))\n",
    "\n",
    "plt.figure(figsize=(8,6))\n",
    "df['Total'].plot(kind='bar',color='red')\n",
    "df['Survived'].plot(kind='bar',color=\"green\")\n",
    "plt.xlabel(\"Gender\")\n",
    "plt.ylabel(\"Total Passengers\")\n",
    "plt.title(\"Survival Rate per Gender\",fontsize=18)"
   ]
  },
  {
   "cell_type": "code",
   "execution_count": 144,
   "metadata": {
    "collapsed": false
   },
   "outputs": [
    {
     "data": {
      "text/plain": [
       "<matplotlib.text.Text at 0x117ee56a0>"
      ]
     },
     "execution_count": 144,
     "metadata": {},
     "output_type": "execute_result"
    },
    {
     "data": {
      "image/png": "[encoded data removed]",
      "text/plain": [
       "<matplotlib.figure.Figure at 0x117ed6d68>"
      ]
     },
     "metadata": {},
     "output_type": "display_data"
    }
   ],
   "source": [
    "df_train['Age'].plot(kind='hist',color=\"blue\",edgecolor=\"w\",alpha=0.60)\n",
    "plt.title(\"Age Histogram\",fontsize=18)\n",
    "plt.xlabel(\"Age\")"
   ]
  },
  {
   "cell_type": "code",
   "execution_count": 145,
   "metadata": {
    "collapsed": false
   },
   "outputs": [
    {
     "data": {
      "text/plain": [
       "<matplotlib.figure.Figure at 0x1187620f0>"
      ]
     },
     "metadata": {},
     "output_type": "display_data"
    },
    {
     "data": {
      "image/png": "[encoded data removed]",
      "text/plain": [
       "<matplotlib.figure.Figure at 0x1187392b0>"
      ]
     },
     "metadata": {},
     "output_type": "display_data"
    }
   ],
   "source": [
    "plt.figure(figsize=(6,6))\n",
    "g = sns.factorplot(\"Sex\", hue=\"Sex\", y=\"Age\", data=df_train, kind=\"box\",\n",
    "                   linewidth=2.0,palette=\"Set2\")\n",
    "g.add_legend(title=\"Gender\")\n",
    "plt.title(\"Avg and Gender Boxplot\")\n",
    "plt.show()"
   ]
  },
  {
   "cell_type": "code",
   "execution_count": 146,
   "metadata": {
    "collapsed": false
   },
   "outputs": [
    {
     "data": {
      "text/plain": [
       "<matplotlib.figure.Figure at 0x118b5b1d0>"
      ]
     },
     "metadata": {},
     "output_type": "display_data"
    },
    {
     "data": {
      "image/png": "[encoded data removed]",
      "text/plain": [
       "<matplotlib.figure.Figure at 0x1188139b0>"
      ]
     },
     "metadata": {},
     "output_type": "display_data"
    }
   ],
   "source": [
    "plt.figure(figsize=(6,6))\n",
    "g = sns.factorplot(\"Sex\", hue=\"Sex\", y=\"Fare\", data=df_train, kind=\"box\",\n",
    "                   linewidth=2.0,palette=\"Set2\")\n",
    "g.add_legend(title=\"Gender\")\n",
    "plt.title(\"Avg and Fare Boxplot\")\n",
    "plt.show()"
   ]
  },
  {
   "cell_type": "code",
   "execution_count": null,
   "metadata": {
    "collapsed": true
   },
   "outputs": [],
   "source": []
  }
 ],
 "metadata": {
  "anaconda-cloud": {},
  "kernelspec": {
   "display_name": "Python [default]",
   "language": "python",
   "name": "python3"
  },
  "language_info": {
   "codemirror_mode": {
    "name": "ipython",
    "version": 3
   },
   "file_extension": ".py",
   "mimetype": "text/x-python",
   "name": "python",
   "nbconvert_exporter": "python",
   "pygments_lexer": "ipython3",
   "version": "3.5.2"
  }
 },
 "nbformat": 4,
 "nbformat_minor": 0
}
