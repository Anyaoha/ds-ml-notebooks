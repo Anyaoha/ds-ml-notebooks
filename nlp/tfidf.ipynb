{
 "cells": [
  {
   "cell_type": "markdown",
   "id": "26b51659-6700-46e8-be56-18094b5c7564",
   "metadata": {},
   "source": [
    "# TFIDF "
   ]
  },
  {
   "cell_type": "code",
   "execution_count": null,
   "id": "b3dcbefb-1327-47f4-b4be-fb4bb0d18587",
   "metadata": {},
   "outputs": [],
   "source": [
    "# Importing libraries\n",
    "import nltk\n",
    "import re\n",
    "from sklearn.feature_extraction.text import CountVectorizer, TfidfVectorizer\n",
    "from nltk.corpus import stopwords\n",
    "from nltk.tokenize import word_tokenize\n",
    "import pandas as pd\n",
    "  \n",
    "# Input the file \n",
    "txt1 = []\n",
    "with open('C:\\\\Users\\\\DELL\\\\Desktop\\\\MachineLearning1.txt') as file:\n",
    "    txt1 = file.readlines()\n"
   ]
  },
  {
   "cell_type": "code",
   "execution_count": null,
   "id": "4dba3d3d-411f-45a0-a245-d2a5561e6d03",
   "metadata": {},
   "outputs": [],
   "source": [
    "def remove_string_special_characters(s):\n",
    "      \n",
    "    # removes special characters with ' '\n",
    "    stripped = re.sub('[^a-zA-z\\s]', '', s)\n",
    "    stripped = re.sub('_', '', stripped)\n",
    "      \n",
    "    # Change any white space to one space\n",
    "    stripped = re.sub('\\s+', ' ', stripped)\n",
    "      \n",
    "    # Remove start and end white spaces\n",
    "    stripped = stripped.strip()\n",
    "    if stripped != '':\n",
    "            return stripped.lower()\n",
    "          \n",
    "# Stopword removal \n",
    "stop_words = set(stopwords.words('english'))\n",
    "your_list = ['skills', 'ability', 'job', 'description']\n",
    "for i, line in enumerate(txt1):\n",
    "    txt1[i] = ' '.join([x for \n",
    "        x in nltk.word_tokenize(line) if \n",
    "        ( x not in stop_words ) and ( x not in your_list )])"
   ]
  },
  {
   "cell_type": "code",
   "execution_count": null,
   "id": "e225ddb6-494e-43a6-be89-21ffe1cfb57e",
   "metadata": {},
   "outputs": [],
   "source": [
    "# Getting trigrams \n",
    "vectorizer = CountVectorizer(ngram_range = (3,3))\n",
    "X1 = vectorizer.fit_transform(txt1) \n",
    "features = (vectorizer.get_feature_names())\n",
    "print(\"\\n\\nFeatures : \\n\", features)\n",
    "print(\"\\n\\nX1 : \\n\", X1.toarray())\n",
    "  \n",
    "# Applying TFIDF\n",
    "vectorizer = TfidfVectorizer(ngram_range = (3,3))\n",
    "X2 = vectorizer.fit_transform(txt1)\n",
    "scores = (X2.toarray())\n",
    "print(\"\\n\\nScores : \\n\", scores)"
   ]
  },
  {
   "cell_type": "code",
   "execution_count": null,
   "id": "50bc2400-78d3-42ff-b2ad-edfdd4fed8f8",
   "metadata": {},
   "outputs": [],
   "source": [
    "# Getting top ranking features\n",
    "sums = X2.sum(axis = 0)\n",
    "data1 = []\n",
    "for col, term in enumerate(features):\n",
    "    data1.append( (term, sums[0,col] ))\n",
    "ranking = pd.DataFrame(data1, columns = ['term','rank'])\n",
    "words = (ranking.sort_values('rank', ascending = False))\n",
    "print (\"\\n\\nWords head : \\n\", words.head(7))"
   ]
  }
 ],
 "metadata": {
  "kernelspec": {
   "display_name": "Python 3 (ipykernel)",
   "language": "python",
   "name": "python3"
  },
  "language_info": {
   "codemirror_mode": {
    "name": "ipython",
    "version": 3
   },
   "file_extension": ".py",
   "mimetype": "text/x-python",
   "name": "python",
   "nbconvert_exporter": "python",
   "pygments_lexer": "ipython3",
   "version": "3.8.1"
  }
 },
 "nbformat": 4,
 "nbformat_minor": 5
}
