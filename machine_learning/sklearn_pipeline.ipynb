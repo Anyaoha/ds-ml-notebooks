{
 "cells": [
  {
   "cell_type": "markdown",
   "metadata": {},
   "source": [
    "## Example with Principal Component Analysis\n",
    "\n",
    "- Dataset: chemical analysis determine the origin of wines\n",
    "- https://archive.ics.uci.edu/ml/datasets/Wine"
   ]
  },
  {
   "cell_type": "code",
   "execution_count": 356,
   "metadata": {
    "collapsed": true,
    "jupyter": {
     "outputs_hidden": true
    }
   },
   "outputs": [],
   "source": [
    "import numpy as np\n",
    "import pandas as pd\n",
    "import matplotlib.pyplot as plt\n",
    "from matplotlib.colors import ListedColormap\n",
    "%matplotlib inline\n",
    "\n",
    "from sklearn.pipeline import Pipeline\n",
    "from sklearn.decomposition import PCA\n",
    "from sklearn.preprocessing import StandardScaler\n",
    "from sklearn.linear_model import LogisticRegression\n",
    "from sklearn.ensemble import RandomForestClassifier\n",
    "from sklearn.model_selection import StratifiedKFold,GridSearchCV\n",
    "from sklearn.metrics import accuracy_score,precision_recall_fscore_support\n",
    "\n",
    "import warnings\n",
    "warnings.filterwarnings('ignore')"
   ]
  },
  {
   "cell_type": "code",
   "execution_count": 301,
   "metadata": {},
   "outputs": [
    {
     "name": "stdout",
     "output_type": "stream",
     "text": [
      "Observations:  178\n",
      "Features:  14\n"
     ]
    }
   ],
   "source": [
    "def get_data(dir_name='data',class_label ='Class Label'):\n",
    "    \n",
    "    raw = pd.read_csv('{}/wine.csv'.format(dir_name),header=None)\n",
    "\n",
    "    raw.columns = ['Class Label', 'Alcohol', 'Malic acid', 'Ash', \n",
    "    'Alcalinity of ash', 'Magnesium', 'Total phenols', \n",
    "    'Flavanoids', 'Nonflavanoid phenols', 'Proanthocyanins', \n",
    "    'Color intensity', 'Hue', 'OD280/OD315 of Diluted Wines', 'Proline']\n",
    "    \n",
    "    print('Observations: ',raw.shape[0])\n",
    "    print('Features: ',raw.shape[1])\n",
    "    \n",
    "    #Split data into features and class attribute\n",
    "    x_cols = [c for c in raw.columns if class_label not in c]\n",
    "    X = raw[x_cols]\n",
    "    y = raw[class_label]\n",
    "    \n",
    "    return(X,y)\n",
    "\n",
    "if __name__ == '__main__':\n",
    "\n",
    "    X,y = get_data()"
   ]
  },
  {
   "cell_type": "markdown",
   "metadata": {},
   "source": [
    "**Feature**"
   ]
  },
  {
   "cell_type": "code",
   "execution_count": 302,
   "metadata": {},
   "outputs": [
    {
     "data": {
      "text/html": [
       "<div>\n",
       "<table border=\"1\" class=\"dataframe\">\n",
       "  <thead>\n",
       "    <tr style=\"text-align: right;\">\n",
       "      <th></th>\n",
       "      <th>Alcohol</th>\n",
       "      <th>Malic acid</th>\n",
       "      <th>Ash</th>\n",
       "      <th>Alcalinity of ash</th>\n",
       "      <th>Magnesium</th>\n",
       "      <th>Total phenols</th>\n",
       "      <th>Flavanoids</th>\n",
       "      <th>Nonflavanoid phenols</th>\n",
       "      <th>Proanthocyanins</th>\n",
       "      <th>Color intensity</th>\n",
       "      <th>Hue</th>\n",
       "      <th>OD280/OD315 of Diluted Wines</th>\n",
       "      <th>Proline</th>\n",
       "    </tr>\n",
       "  </thead>\n",
       "  <tbody>\n",
       "    <tr>\n",
       "      <th>0</th>\n",
       "      <td>14.23</td>\n",
       "      <td>1.71</td>\n",
       "      <td>2.43</td>\n",
       "      <td>15.6</td>\n",
       "      <td>127</td>\n",
       "      <td>2.80</td>\n",
       "      <td>3.06</td>\n",
       "      <td>0.28</td>\n",
       "      <td>2.29</td>\n",
       "      <td>5.64</td>\n",
       "      <td>1.04</td>\n",
       "      <td>3.92</td>\n",
       "      <td>1065</td>\n",
       "    </tr>\n",
       "    <tr>\n",
       "      <th>1</th>\n",
       "      <td>13.20</td>\n",
       "      <td>1.78</td>\n",
       "      <td>2.14</td>\n",
       "      <td>11.2</td>\n",
       "      <td>100</td>\n",
       "      <td>2.65</td>\n",
       "      <td>2.76</td>\n",
       "      <td>0.26</td>\n",
       "      <td>1.28</td>\n",
       "      <td>4.38</td>\n",
       "      <td>1.05</td>\n",
       "      <td>3.40</td>\n",
       "      <td>1050</td>\n",
       "    </tr>\n",
       "    <tr>\n",
       "      <th>2</th>\n",
       "      <td>13.16</td>\n",
       "      <td>2.36</td>\n",
       "      <td>2.67</td>\n",
       "      <td>18.6</td>\n",
       "      <td>101</td>\n",
       "      <td>2.80</td>\n",
       "      <td>3.24</td>\n",
       "      <td>0.30</td>\n",
       "      <td>2.81</td>\n",
       "      <td>5.68</td>\n",
       "      <td>1.03</td>\n",
       "      <td>3.17</td>\n",
       "      <td>1185</td>\n",
       "    </tr>\n",
       "    <tr>\n",
       "      <th>3</th>\n",
       "      <td>14.37</td>\n",
       "      <td>1.95</td>\n",
       "      <td>2.50</td>\n",
       "      <td>16.8</td>\n",
       "      <td>113</td>\n",
       "      <td>3.85</td>\n",
       "      <td>3.49</td>\n",
       "      <td>0.24</td>\n",
       "      <td>2.18</td>\n",
       "      <td>7.80</td>\n",
       "      <td>0.86</td>\n",
       "      <td>3.45</td>\n",
       "      <td>1480</td>\n",
       "    </tr>\n",
       "    <tr>\n",
       "      <th>4</th>\n",
       "      <td>13.24</td>\n",
       "      <td>2.59</td>\n",
       "      <td>2.87</td>\n",
       "      <td>21.0</td>\n",
       "      <td>118</td>\n",
       "      <td>2.80</td>\n",
       "      <td>2.69</td>\n",
       "      <td>0.39</td>\n",
       "      <td>1.82</td>\n",
       "      <td>4.32</td>\n",
       "      <td>1.04</td>\n",
       "      <td>2.93</td>\n",
       "      <td>735</td>\n",
       "    </tr>\n",
       "  </tbody>\n",
       "</table>\n",
       "</div>"
      ],
      "text/plain": [
       "   Alcohol  Malic acid   Ash  Alcalinity of ash  Magnesium  Total phenols  \\\n",
       "0    14.23        1.71  2.43               15.6        127           2.80   \n",
       "1    13.20        1.78  2.14               11.2        100           2.65   \n",
       "2    13.16        2.36  2.67               18.6        101           2.80   \n",
       "3    14.37        1.95  2.50               16.8        113           3.85   \n",
       "4    13.24        2.59  2.87               21.0        118           2.80   \n",
       "\n",
       "   Flavanoids  Nonflavanoid phenols  Proanthocyanins  Color intensity   Hue  \\\n",
       "0        3.06                  0.28             2.29             5.64  1.04   \n",
       "1        2.76                  0.26             1.28             4.38  1.05   \n",
       "2        3.24                  0.30             2.81             5.68  1.03   \n",
       "3        3.49                  0.24             2.18             7.80  0.86   \n",
       "4        2.69                  0.39             1.82             4.32  1.04   \n",
       "\n",
       "   OD280/OD315 of Diluted Wines  Proline  \n",
       "0                          3.92     1065  \n",
       "1                          3.40     1050  \n",
       "2                          3.17     1185  \n",
       "3                          3.45     1480  \n",
       "4                          2.93      735  "
      ]
     },
     "execution_count": 302,
     "metadata": {},
     "output_type": "execute_result"
    }
   ],
   "source": [
    "X.head()"
   ]
  },
  {
   "cell_type": "markdown",
   "metadata": {},
   "source": [
    "**Class Labels Breakdown**"
   ]
  },
  {
   "cell_type": "code",
   "execution_count": 303,
   "metadata": {},
   "outputs": [
    {
     "data": {
      "text/plain": [
       "2    71\n",
       "1    59\n",
       "3    48\n",
       "Name: Class Label, dtype: int64"
      ]
     },
     "execution_count": 303,
     "metadata": {},
     "output_type": "execute_result"
    }
   ],
   "source": [
    "y.value_counts()"
   ]
  },
  {
   "cell_type": "markdown",
   "metadata": {},
   "source": [
    "**Split Data into Training and Testing**"
   ]
  },
  {
   "cell_type": "code",
   "execution_count": 245,
   "metadata": {},
   "outputs": [],
   "source": [
    "def split_train_test(X,Y,train_size=0.80):\n",
    "    \n",
    "    \"\"\" Return Training/Testing Subsets\"\"\"\n",
    "    \n",
    "    idx = np.random.permutation(len(X))\n",
    "    size = int(train_size*100)\n",
    "\n",
    "    x_train = X[idx[:size]]\n",
    "    y_train = Y[idx[:size]]\n",
    "    \n",
    "    x_test = X[idx[size:]]\n",
    "    y_test = Y[idx[size:]]\n",
    "    \n",
    "    return(x_train,y_train,x_test,y_test)\n",
    "\n",
    "if __name__ == '__main__':\n",
    "    \n",
    "    x_train,y_train,x_test,y_test = split_train_test(X.values,y.values)\n",
    "    \n",
    "    #Standardize\n",
    "    x_train_std = StandardScaler().fit_transform(x_train)\n",
    "    x_test_std = StandardScaler().fit_transform(x_test)"
   ]
  },
  {
   "cell_type": "markdown",
   "metadata": {},
   "source": [
    "**Dimensionality Reduction**"
   ]
  },
  {
   "cell_type": "code",
   "execution_count": 249,
   "metadata": {},
   "outputs": [
    {
     "name": "stdout",
     "output_type": "stream",
     "text": [
      "1 Principal Component(s) -- Variance Explained: 0.346\n",
      "2 Principal Component(s) -- Variance Explained: 0.190\n",
      "3 Principal Component(s) -- Variance Explained: 0.119\n",
      "4 Principal Component(s) -- Variance Explained: 0.085\n",
      "5 Principal Component(s) -- Variance Explained: 0.067\n",
      "6 Principal Component(s) -- Variance Explained: 0.049\n",
      "7 Principal Component(s) -- Variance Explained: 0.037\n",
      "8 Principal Component(s) -- Variance Explained: 0.007\n",
      "\n",
      "** 8 Components Explains 0.900 of the Total Variance **\n",
      "\n",
      "Sklearn -- 8 Principal Component(s) -- Variance Explained: 0.921\n"
     ]
    },
    {
     "data": {
      "image/png": "[encoded data removed]",
      "text/plain": [
       "<matplotlib.figure.Figure at 0x1145fc710>"
      ]
     },
     "metadata": {},
     "output_type": "display_data"
    }
   ],
   "source": [
    "def do_PCA(X,y,n_components=8):\n",
    "    \n",
    "    #Compute Covariance Matrix\n",
    "    mat = np.cov(X.T)\n",
    "\n",
    "    #Eigenvalues and Eigenvectors\n",
    "    eig_vals, eig_vect = np.linalg.eig(mat)\n",
    "    \n",
    "    eig_vals_r = eig_vals.T[:n_components]\n",
    "    eig_vect_r = eig_vect.T[:n_components,:]\n",
    "    \n",
    "    #Compute Explained Variance\n",
    "    var = sum(eig_vals)\n",
    "    var_exp = [(i / var) for i in sorted(eig_vals_r, reverse=True)]\n",
    "\n",
    "    for i in range(len(var_exp)):\n",
    "        print('{0} Principal Component(s) -- Variance Explained: {1:.3f}'.format(i+1,var_exp[i]))\n",
    "\n",
    "    #Cumulative Explained Variance\n",
    "    cum_var_exp = np.cumsum(var_exp)\n",
    "    print('\\n** {0} Components Explains {1:.3f} of the Total Variance **'.format(len(var_exp),np.sum(var_exp)))\n",
    "    \n",
    "    #Projections\n",
    "    proj = X.dot(eig_vect_r.T)\n",
    "    pca_visual(proj,y)\n",
    "    \n",
    "    return(proj)\n",
    "\n",
    "def do_PCA_sklearn(X,y,n_components=8):\n",
    "    \n",
    "    pc = PCA(n_components=n_components).fit(X)\n",
    "    pcs = pc.transform(X)\n",
    "    print('\\nSklearn -- {0} Principal Component(s) -- Variance Explained: {1:.3f}'.format(n_components,np.sum(pc.explained_variance_ratio_)))\n",
    "    return(pcs)\n",
    "\n",
    "def pca_visual(proj,y):\n",
    "    \n",
    "    #Project Data onto Principal Components\n",
    "    fig = plt.figure(figsize=(5,3))\n",
    "    ax = fig.add_subplot(111)\n",
    "    ax.scatter(proj[:,0],proj[:,1],c=y,cmap='cool')\n",
    "    ax.set_ylabel('PC2')\n",
    "    ax.set_xlabel('PC1')\n",
    "    ax.set_title('Principal Component Analysis',fontsize=12,y=1.02)\n",
    "\n",
    "\n",
    "if __name__ == '__main__':\n",
    "    \n",
    "    pcs = do_PCA(x_train_std,y_train)\n",
    "    pcs_sklearn = do_PCA_sklearn(x_train_std,y_train)"
   ]
  },
  {
   "cell_type": "markdown",
   "metadata": {},
   "source": [
    "** Explore Decision Boundary for the First 2 Principal Components **"
   ]
  },
  {
   "cell_type": "code",
   "execution_count": 250,
   "metadata": {},
   "outputs": [
    {
     "name": "stdout",
     "output_type": "stream",
     "text": [
      "(177356, 2)\n"
     ]
    },
    {
     "data": {
      "image/png": "[encoded data removed]",
      "text/plain": [
       "<matplotlib.figure.Figure at 0x1142e5208>"
      ]
     },
     "metadata": {},
     "output_type": "display_data"
    }
   ],
   "source": [
    "def plot_decision_regions(X,y,classifier,grid_res = 0.02):\n",
    "\n",
    "    #Decision Surface\n",
    "    x1_min, x1_max = X[:, 0].min() - .50, X[:, 0].max() + .50\n",
    "    x2_min, x2_max = X[:, 1].min() - .50, X[:, 1].max() + .50\n",
    "    \n",
    "    xx1, xx2 = np.meshgrid(np.arange(x1_min, x1_max, grid_res),\n",
    "                           np.arange(x2_min, x2_max, grid_res))\n",
    "    \n",
    "    Z = classifier.predict(np.array([xx1.ravel(), xx2.ravel()]).T)\n",
    "    \n",
    "    #Make Predictions given first 2 PCs\n",
    "    print(np.array([xx1.ravel(), xx2.ravel()]).T.shape)\n",
    "    \n",
    "    Z = Z.reshape(xx1.shape)\n",
    "\n",
    "    cm = plt.cm.RdBu\n",
    "    cm_bright = ListedColormap(['#FF0000', '#0000FF'])\n",
    "    \n",
    "    #Countour Plot\n",
    "    plt.contourf(xx1,xx2,Z,alpha=0.50,cmap='jet')\n",
    "    \n",
    "    plt.xlim(x1_min,x1_max)\n",
    "    plt.ylim(x2_min,x2_max)\n",
    "    \n",
    "    #Plot Datapoints\n",
    "    plt.scatter(X[:,0],X[:,1],c=y,cmap='jet')\n",
    "    \n",
    "    plt.xlabel('Principal Component 1')\n",
    "    plt.ylabel('Principal Component 2')\n",
    "    plt.legend(loc='lower left')\n",
    "    plt.tight_layout()\n",
    "    \n",
    "if __name__ == '__main__':\n",
    "    pcs_r = pcs[:,:2]\n",
    "    lr = LogisticRegression()\n",
    "    lr = lr.fit(pcs_r, y_train)\n",
    "    plot_decision_regions(pcs,y_train,classifier=lr)"
   ]
  },
  {
   "cell_type": "markdown",
   "metadata": {},
   "source": [
    "### Pipeline w/out Gridearch"
   ]
  },
  {
   "cell_type": "code",
   "execution_count": 430,
   "metadata": {},
   "outputs": [
    {
     "name": "stdout",
     "output_type": "stream",
     "text": [
      "================ Model: RandomForest ================ \n",
      "Fold 1 -- Accuracy 0.895\n",
      "Fold 2 -- Accuracy 0.833\n",
      "Fold 3 -- Accuracy 0.833\n",
      "Fold 4 -- Accuracy 0.833\n",
      "Fold 5 -- Accuracy 0.889\n",
      "Fold 6 -- Accuracy 0.889\n",
      "Fold 7 -- Accuracy 1.000\n",
      "Fold 8 -- Accuracy 0.944\n",
      "Fold 9 -- Accuracy 1.000\n",
      "Fold 10 -- Accuracy 1.000\n",
      "Average Training Accuracy: 91.16959064327486 +- 6.649\n",
      "================ Model: LogisticRegression ================ \n",
      "Fold 1 -- Accuracy 0.842\n",
      "Fold 2 -- Accuracy 0.889\n",
      "Fold 3 -- Accuracy 0.889\n",
      "Fold 4 -- Accuracy 0.889\n",
      "Fold 5 -- Accuracy 0.889\n",
      "Fold 6 -- Accuracy 0.944\n",
      "Fold 7 -- Accuracy 1.000\n",
      "Fold 8 -- Accuracy 0.944\n",
      "Fold 9 -- Accuracy 0.941\n",
      "Fold 10 -- Accuracy 1.000\n",
      "Average Training Accuracy: 92.27726178190574 +- 4.930\n"
     ]
    }
   ],
   "source": [
    "def make_pipeline(n_components=4,solver='randomized'):\n",
    "    \n",
    "    pipe_RF = Pipeline(\n",
    "        [('pca',PCA(n_components=n_components,svd_solver=solver)),\n",
    "         ('RandomForest',RandomForestClassifier(n_estimators=100,n_jobs=3))])\n",
    "    \n",
    "    pipe_LR = Pipeline(\n",
    "        [('pca',PCA(n_components=n_components,svd_solver=solver)),\n",
    "         ('LogisticRegression',LogisticRegression())])\n",
    "    \n",
    "    return(pipe_RF,pipe_LR)\n",
    "\n",
    "def pipeline_(X,y,n_splits=10):\n",
    "    \n",
    "    results = pd.DataFrame(columns=['Model','Precision','Recall','F1','Accuracy'])\n",
    "    clf_pipes = make_pipeline()\n",
    "    \n",
    "    #Stratified KFold\n",
    "    cv = StratifiedKFold(n_splits=n_splits)\n",
    "\n",
    "    for clf in clf_pipes:\n",
    "\n",
    "        model = clf.steps[1][0]\n",
    "        print('================ Model: {} ================ '.format(model))\n",
    "\n",
    "        accuracy_results = []\n",
    "        \n",
    "        #Train/Test Model\n",
    "        for fold, (train,test) in enumerate(cv.split(X,y)):\n",
    "\n",
    "            clf.fit(X.ix[train,:],y[train])\n",
    "            y_pred = clf.predict(X.ix[test,:])\n",
    "            \n",
    "            #Compute Summary Statistics\n",
    "            p,r,f1,_= precision_recall_fscore_support(y_pred,y[test],average='weighted')\n",
    "            \n",
    "            acc = accuracy_score(y_pred,y[test])\n",
    "            accuracy_results.append(acc)\n",
    "            print('Fold {0} -- Accuracy {1:.3f}'.format(fold+1,acc))\n",
    "            \n",
    "            #Append results to DataFrame\n",
    "            results = results.append({\n",
    "              'Fold': fold+1,\n",
    "              'Model':model,\n",
    "              'Precision':p,\n",
    "              'Recall':r,\n",
    "              'F1':f1,\n",
    "              'Accuracy': acc},ignore_index=True)\n",
    "            \n",
    "        print('Average Training Accuracy: {0} +- {1:.3f}'.format(np.mean(accuracy_results)*100,np.std(accuracy_results)*100))\n",
    "\n",
    "    return(results)\n",
    "\n",
    "if __name__ == '__main__':\n",
    "    \n",
    "    results = pipeline_(X,y)"
   ]
  },
  {
   "cell_type": "code",
   "execution_count": 391,
   "metadata": {},
   "outputs": [
    {
     "data": {
      "text/html": [
       "<div>\n",
       "<table border=\"1\" class=\"dataframe\">\n",
       "  <thead>\n",
       "    <tr style=\"text-align: right;\">\n",
       "      <th></th>\n",
       "      <th>Model</th>\n",
       "      <th>Precision</th>\n",
       "      <th>Recall</th>\n",
       "      <th>F1</th>\n",
       "      <th>Accuracy</th>\n",
       "      <th>Fold</th>\n",
       "    </tr>\n",
       "  </thead>\n",
       "  <tbody>\n",
       "    <tr>\n",
       "      <th>0</th>\n",
       "      <td>Random Forest</td>\n",
       "      <td>0.914035</td>\n",
       "      <td>0.894737</td>\n",
       "      <td>0.894205</td>\n",
       "      <td>0.894737</td>\n",
       "      <td>1.0</td>\n",
       "    </tr>\n",
       "    <tr>\n",
       "      <th>1</th>\n",
       "      <td>Random Forest</td>\n",
       "      <td>0.860317</td>\n",
       "      <td>0.833333</td>\n",
       "      <td>0.834894</td>\n",
       "      <td>0.833333</td>\n",
       "      <td>2.0</td>\n",
       "    </tr>\n",
       "    <tr>\n",
       "      <th>2</th>\n",
       "      <td>Random Forest</td>\n",
       "      <td>0.955556</td>\n",
       "      <td>0.777778</td>\n",
       "      <td>0.836971</td>\n",
       "      <td>0.777778</td>\n",
       "      <td>3.0</td>\n",
       "    </tr>\n",
       "    <tr>\n",
       "      <th>3</th>\n",
       "      <td>Random Forest</td>\n",
       "      <td>0.833333</td>\n",
       "      <td>0.833333</td>\n",
       "      <td>0.833333</td>\n",
       "      <td>0.833333</td>\n",
       "      <td>4.0</td>\n",
       "    </tr>\n",
       "    <tr>\n",
       "      <th>4</th>\n",
       "      <td>Random Forest</td>\n",
       "      <td>0.925926</td>\n",
       "      <td>0.888889</td>\n",
       "      <td>0.893056</td>\n",
       "      <td>0.888889</td>\n",
       "      <td>5.0</td>\n",
       "    </tr>\n",
       "  </tbody>\n",
       "</table>\n",
       "</div>"
      ],
      "text/plain": [
       "           Model  Precision    Recall        F1  Accuracy  Fold\n",
       "0  Random Forest   0.914035  0.894737  0.894205  0.894737   1.0\n",
       "1  Random Forest   0.860317  0.833333  0.834894  0.833333   2.0\n",
       "2  Random Forest   0.955556  0.777778  0.836971  0.777778   3.0\n",
       "3  Random Forest   0.833333  0.833333  0.833333  0.833333   4.0\n",
       "4  Random Forest   0.925926  0.888889  0.893056  0.888889   5.0"
      ]
     },
     "execution_count": 391,
     "metadata": {},
     "output_type": "execute_result"
    }
   ],
   "source": [
    "results.head()"
   ]
  },
  {
   "cell_type": "markdown",
   "metadata": {},
   "source": [
    "### Pipeline w/ Gridearch"
   ]
  },
  {
   "cell_type": "code",
   "execution_count": 582,
   "metadata": {},
   "outputs": [
    {
     "name": "stdout",
     "output_type": "stream",
     "text": [
      "================ Model: RandomForest ================ \n",
      "Fold 7 -- Max Cross Validation Score of 96.067\n",
      "Mean Test Score: 94.070 +- 5.543\n",
      "================ Model: LogisticRegression ================ \n",
      "Fold 2 -- Max Cross Validation Score of 96.629\n",
      "Mean Test Score: 95.693 +- 4.223\n"
     ]
    }
   ],
   "source": [
    "def get_params():\n",
    "    \n",
    "    #PC components \n",
    "    components = [5,8,10]\n",
    "    \n",
    "    #Random Forest\n",
    "    RF_params = dict(pca__n_components=components,RandomForest__n_estimators=[100,250,500])\n",
    "\n",
    "    #Logistic Regression\n",
    "    LR_params = dict(pca__n_components=components)    \n",
    "    \n",
    "    return(RF_params,LR_params)\n",
    "\n",
    "def pipeline_gridsearch_(X,y):\n",
    "    \n",
    "    results = defaultdict()\n",
    "    \n",
    "    clf_pipes = [(clf,params) for clf,params in zip(make_pipeline(),get_params())]\n",
    "    for clf in clf_pipes:\n",
    "        \n",
    "        model = clf[0].steps[1][0]\n",
    "        print('================ Model: {} ================ '.format(model))\n",
    "        \n",
    "        clf = GridSearchCV(clf[0],param_grid=clf[1],cv=10,scoring='accuracy')\n",
    "        clf.fit(X,y)\n",
    "        \n",
    "        print('Fold {0} -- Max Cross Validation Score of {1:.3f}'.format(clf.best_index_,clf.best_score_*100))\n",
    "        print('Mean Test Score: {0:.3f} +- {1:.3f}'.format(float(np.mean(clf.cv_results_['mean_test_score'])*100),\n",
    "                                            float(np.mean(clf.cv_results_['std_test_score'])*100)))\n",
    "\n",
    "        #Cross-Validation Keys of Interest:\n",
    "        k_cv = clf.cv_results_\n",
    "        filt = ['std_score_time','mean_fit_time','mean_train_score','mean_test_score','param_pca__n_components']\n",
    "        \n",
    "        filtered_cv = dict((k, k_cv[k]) for k in filt if k in k_cv)\n",
    "        results[model] = filtered_cv\n",
    "        \n",
    "    return(results)\n",
    "        \n",
    "if __name__ == '__main__':\n",
    "    \n",
    "    results = pipeline_gridsearch_(X,y)"
   ]
  }
 ],
 "metadata": {
  "anaconda-cloud": {},
  "kernelspec": {
   "display_name": "Python 3 (ipykernel)",
   "language": "python",
   "name": "python3"
  },
  "language_info": {
   "codemirror_mode": {
    "name": "ipython",
    "version": 3
   },
   "file_extension": ".py",
   "mimetype": "text/x-python",
   "name": "python",
   "nbconvert_exporter": "python",
   "pygments_lexer": "ipython3",
   "version": "3.8.1"
  }
 },
 "nbformat": 4,
 "nbformat_minor": 4
}
